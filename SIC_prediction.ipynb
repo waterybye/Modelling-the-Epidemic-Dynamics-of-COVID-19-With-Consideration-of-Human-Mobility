{
 "cells": [
  {
   "cell_type": "markdown",
   "metadata": {},
   "source": [
    "# Read Data"
   ]
  },
  {
   "cell_type": "code",
   "execution_count": 1,
   "metadata": {},
   "outputs": [],
   "source": [
    "import numpy as np\n",
    "import pandas as pd\n",
    "import pickle\n",
    "import json\n",
    "import csv\n",
    "import matplotlib.pyplot as plt\n",
    "import matplotlib.dates as mdates\n",
    "import datetime\n",
    "import numpy as np\n",
    "import pandas as pd\n",
    "import datetime as dt\n",
    "import os"
   ]
  },
  {
   "cell_type": "code",
   "execution_count": 2,
   "metadata": {},
   "outputs": [],
   "source": [
    "from matplotlib.font_manager import *\n",
    "myfont = FontProperties(fname='./objs/simhei.ttf', size=14)"
   ]
  },
  {
   "cell_type": "code",
   "execution_count": 3,
   "metadata": {},
   "outputs": [],
   "source": [
    "def save_obj(obj, name ):\n",
    "    with open('objs/'+ name + '.pkl', 'wb') as f:\n",
    "        pickle.dump(obj, f, pickle.HIGHEST_PROTOCOL)\n",
    "\n",
    "def load_obj(name ):\n",
    "    with open('objs/' + name + '.pkl', 'rb') as f:\n",
    "        return pickle.load(f)"
   ]
  },
  {
   "cell_type": "code",
   "execution_count": 6,
   "metadata": {},
   "outputs": [],
   "source": [
    "origin_data = pd.read_csv('newdata/infect_city.csv')"
   ]
  },
  {
   "cell_type": "code",
   "execution_count": 7,
   "metadata": {},
   "outputs": [],
   "source": [
    "origin_data = origin_data.sort_values(by = 'ID', ascending= True)"
   ]
  },
  {
   "cell_type": "code",
   "execution_count": 8,
   "metadata": {},
   "outputs": [],
   "source": [
    "city_ID = {}\n",
    "ID_city = {}\n",
    "for _, row in origin_data.iterrows():\n",
    "    city_ID[row['city']] = int(row['ID'])\n",
    "    ID_city[int(row['ID'])] = row['city']"
   ]
  },
  {
   "cell_type": "code",
   "execution_count": 9,
   "metadata": {},
   "outputs": [],
   "source": [
    "population = origin_data[['ID', 'city', 'population']]\n",
    "population = np.array(population)"
   ]
  },
  {
   "cell_type": "code",
   "execution_count": 11,
   "metadata": {},
   "outputs": [],
   "source": [
    "epidemic = origin_data.drop(['population', ], axis= 1)"
   ]
  },
  {
   "cell_type": "code",
   "execution_count": 12,
   "metadata": {},
   "outputs": [],
   "source": [
    "epidemic = np.array(epidemic)"
   ]
  },
  {
   "cell_type": "code",
   "execution_count": 14,
   "metadata": {},
   "outputs": [],
   "source": [
    "cure_origin = pd.read_csv('newdata/cure_city.csv')\n",
    "cure = np.array(cure_origin)\n",
    "death_origin = pd.read_csv('newdata/death_city.csv')\n",
    "death = np.array(death_origin)"
   ]
  },
  {
   "cell_type": "code",
   "execution_count": 15,
   "metadata": {},
   "outputs": [],
   "source": [
    "#来自24个城市的迁入感染人数\n",
    "iminfect_origin = pd.read_csv('newdata/iminfect.csv')\n",
    "iminfect = np.array(iminfect_origin)\n",
    "\n",
    "#城市活跃度\n",
    "active_origin = pd.read_csv('newdata/huoyue.csv')\n",
    "active = np.array(active_origin)\n",
    "\n",
    "alldates = list(origin_data.columns)[3:]"
   ]
  },
  {
   "cell_type": "code",
   "execution_count": 18,
   "metadata": {},
   "outputs": [],
   "source": [
    "def str_to_dt(datestr):\n",
    "    return dt.datetime.strptime(datestr, '%Y/%m/%d').date()\n",
    "def dt_to_str(datedt):\n",
    "    return datedt.strftime('%Y/%m/%d')"
   ]
  },
  {
   "cell_type": "markdown",
   "metadata": {},
   "source": [
    "# SICs model"
   ]
  },
  {
   "cell_type": "code",
   "execution_count": 83,
   "metadata": {},
   "outputs": [],
   "source": [
    "def SI2C(INPUT, t, alpha, k1, k2, k3, k4):\n",
    "    Y = np.zeros((5))\n",
    "    alpha = max(alpha, 0)\n",
    "    k1 = max(k1,0)\n",
    "    k2 = max(k2,0)\n",
    "    \n",
    "\n",
    "    S = INPUT[0]\n",
    "    I = INPUT[1]\n",
    "    C = INPUT[2]\n",
    "    imI = INPUT[3]\n",
    "    A = INPUT[4]\n",
    "    \n",
    "    Y[0] = - k1 * A * I * S\n",
    "    Y[1] = k1 * A * I * S - alpha * I + k2 * imI\n",
    "    Y[2] = alpha * I\n",
    "    Y[3] = k3 * imI\n",
    "    Y[4] = k4 * A\n",
    "\n",
    "    return Y"
   ]
  },
  {
   "cell_type": "code",
   "execution_count": 84,
   "metadata": {},
   "outputs": [],
   "source": [
    "def SIC_im(INPUT, t, alpha, k1, k2, k3):\n",
    "    Y = np.zeros((4))\n",
    "    alpha = max(alpha, 0)\n",
    "    k1 = max(k1,0)\n",
    "    k2 = max(k2,0)\n",
    "    \n",
    "    S = INPUT[0]\n",
    "    I = INPUT[1]\n",
    "    C = INPUT[2]\n",
    "    imI = INPUT[3]\n",
    "    \n",
    "    Y[0] = - k1 * I * S\n",
    "    Y[1] = k1 * I * S - alpha * I + k2 * imI\n",
    "    Y[2] = alpha * I\n",
    "    Y[3] = k3 * imI\n",
    "\n",
    "    return Y"
   ]
  },
  {
   "cell_type": "code",
   "execution_count": 85,
   "metadata": {},
   "outputs": [],
   "source": [
    "def SIC_act(INPUT, t, alpha, k1, k4):\n",
    "    Y = np.zeros((4))\n",
    "    alpha = max(alpha, 0)\n",
    "    k1 = max(k1,0)\n",
    "    \n",
    "    S = INPUT[0]\n",
    "    I = INPUT[1]\n",
    "    C = INPUT[2]\n",
    "    A = INPUT[3]\n",
    "    \n",
    "    Y[0] = - k1 * A * I * S\n",
    "    Y[1] = k1 * A * I * S - alpha * I\n",
    "    Y[2] = alpha * I\n",
    "    Y[3] = k4 * A\n",
    "\n",
    "    return Y"
   ]
  },
  {
   "cell_type": "code",
   "execution_count": 86,
   "metadata": {},
   "outputs": [],
   "source": [
    "def SIC(INPUT, t, alpha, k1):\n",
    "    Y = np.zeros((3))\n",
    "    \n",
    "    S = INPUT[0]\n",
    "    I = INPUT[1]\n",
    "    C = INPUT[2]\n",
    "    \n",
    "    Y[0] = - k1 * I * S\n",
    "    Y[1] = k1 * I * S - alpha * I\n",
    "    Y[2] = alpha * I\n",
    "\n",
    "    return Y"
   ]
  },
  {
   "cell_type": "code",
   "execution_count": 87,
   "metadata": {},
   "outputs": [],
   "source": [
    "def SIR(INPUT, t, alpha, k1):\n",
    "    Y = np.zeros((3))\n",
    "    alpha = max(alpha, 0)\n",
    "    k1 = max(k1,0)\n",
    "\n",
    "    S = INPUT[0]\n",
    "    I = INPUT[1]\n",
    "    R = INPUT[2]\n",
    "    \n",
    "    Y[0] = - k1 * I * S\n",
    "    Y[1] = k1 * I * S - alpha * I\n",
    "    Y[2] = alpha * I\n",
    "\n",
    "    return Y"
   ]
  },
  {
   "cell_type": "code",
   "execution_count": 88,
   "metadata": {},
   "outputs": [],
   "source": [
    "def SEIR(INPUT, t, alpha, gamma, k1):\n",
    "    Y = np.zeros((4))\n",
    "    alpha = max(alpha, 0)\n",
    "    k1 = max(k1,0)\n",
    "\n",
    "    S = INPUT[0]\n",
    "    E = INPUT[1]\n",
    "    I = INPUT[2]\n",
    "    R = INPUT[3]\n",
    "    \n",
    "    Y[0] = - k1 * I * S\n",
    "    Y[1] = k1 * I * S - alpha * E\n",
    "    Y[2] = alpha * E - gamma * I\n",
    "    Y[3] = gamma * I\n",
    "\n",
    "    return Y"
   ]
  },
  {
   "cell_type": "code",
   "execution_count": 89,
   "metadata": {},
   "outputs": [],
   "source": [
    "#SI2C\n",
    "import scipy.integrate as spi\n",
    "from scipy.optimize import minimize\n",
    "\n",
    "def SI2C_loss(TRUE, PRED):\n",
    "    return np.sum(np.square(TRUE[:, 0] - PRED[:, 2])+np.square(TRUE[:, 1] - PRED[:, 3])+np.square(TRUE[:, 2] - PRED[:, 4]))\n",
    "\n",
    "def optim_fun_si2c(args):\n",
    "    INPUT, t_range, TRUE = args\n",
    "    '''\n",
    "    x[0] = alpha\n",
    "    x[1] = k1\n",
    "    x[2] = k2\n",
    "    x[3] = k3\n",
    "    x[4] = k4\n",
    "    '''\n",
    "    v = lambda x: SI2C_loss(TRUE,spi.odeint(SI2C, (INPUT[0], INPUT[1], INPUT[2], INPUT[3], INPUT[4]), t_range, \n",
    "                                      args = (x[0], x[1], x[2], x[3], x[4])))\n",
    "    return v"
   ]
  },
  {
   "cell_type": "code",
   "execution_count": 90,
   "metadata": {},
   "outputs": [],
   "source": [
    "import scipy.integrate as spi\n",
    "from scipy.optimize import minimize\n",
    "\n",
    "def SIC_im_loss(TRUE, PRED):\n",
    "    return np.sum(np.square(TRUE[:, 0] - PRED[:, 2])+np.square(TRUE[:, 1] - PRED[:, 3]))\n",
    "\n",
    "def optim_fun_sic_im(args):\n",
    "    INPUT, t_range, TRUE = args\n",
    "    '''\n",
    "    x[0] = alpha\n",
    "    x[1] = k1\n",
    "    x[2] = k2\n",
    "    x[3] = k3\n",
    "    '''\n",
    "    v = lambda x: SIC_im_loss(TRUE,spi.odeint(SIC_im, (INPUT[0], INPUT[1], INPUT[2], INPUT[3]), t_range, \n",
    "                                      args = (x[0], x[1], x[2], x[3])))\n",
    "    return v"
   ]
  },
  {
   "cell_type": "code",
   "execution_count": 91,
   "metadata": {},
   "outputs": [],
   "source": [
    "import scipy.integrate as spi\n",
    "from scipy.optimize import minimize\n",
    "\n",
    "def SIC_act_loss(TRUE, PRED):\n",
    "    return np.sum(np.square(TRUE[:, 0] - PRED[:, 2])+np.square(TRUE[:, 1] - PRED[:, 3]))\n",
    "\n",
    "def optim_fun_sic_act(args):\n",
    "    INPUT, t_range, TRUE = args\n",
    "    '''\n",
    "    x[0] = alpha\n",
    "    x[1] = k1\n",
    "    x[2] = k4\n",
    "    '''\n",
    "    v = lambda x: SIC_act_loss(TRUE,spi.odeint(SIC_act, (INPUT[0], INPUT[1], INPUT[2], INPUT[3]), t_range, \n",
    "                                      args = (x[0], x[1], x[2])))\n",
    "    return v"
   ]
  },
  {
   "cell_type": "code",
   "execution_count": 92,
   "metadata": {},
   "outputs": [],
   "source": [
    "import scipy.integrate as spi\n",
    "from scipy.optimize import minimize\n",
    "\n",
    "def SIC_loss(TRUE, PRED):\n",
    "    return np.sum(np.square(TRUE[:, 0] - PRED[:, 2]))\n",
    "\n",
    "def optim_fun_sic(args):\n",
    "    INPUT, t_range, TRUE = args\n",
    "    '''\n",
    "    x[0] = alpha\n",
    "    x[1] = k1\n",
    "    '''\n",
    "    v = lambda x: SIC_loss(TRUE,spi.odeint(SIC, (INPUT[0], INPUT[1], INPUT[2]), t_range, \n",
    "                                      args = (x[0], x[1])))\n",
    "    return v"
   ]
  },
  {
   "cell_type": "code",
   "execution_count": 93,
   "metadata": {},
   "outputs": [],
   "source": [
    "#SIR\n",
    "import scipy.integrate as spi\n",
    "from scipy.optimize import minimize\n",
    "\n",
    "def SIR_loss(TRUE, PRED):\n",
    "    return np.sum(np.square(TRUE[:, 0] - TRUE[:,1] -  PRED[:, 1])+np.square(TRUE[:,1]-PRED[:,2]))\n",
    "\n",
    "def optim_fun_SIR(args):\n",
    "    INPUT, t_range, TRUE = args\n",
    "    '''\n",
    "    x[0] = alpha\n",
    "    x[1] = k1\n",
    "    '''\n",
    "    v = lambda x: SIR_loss(TRUE,spi.odeint(SIR, (INPUT[0], INPUT[1], INPUT[2]), t_range, \n",
    "                                      args = (x[0], x[1])))\n",
    "    return v"
   ]
  },
  {
   "cell_type": "code",
   "execution_count": 94,
   "metadata": {},
   "outputs": [],
   "source": [
    "#SEIR\n",
    "import scipy.integrate as spi\n",
    "from scipy.optimize import minimize\n",
    "\n",
    "def SEIR_loss(TRUE, PRED):\n",
    "    return np.sum(np.square(TRUE[:, 0] - TRUE[:,1] -  PRED[:, 2])+np.square(TRUE[:,1]-PRED[:,3]))\n",
    "\n",
    "def optim_fun_SEIR(args):\n",
    "    INPUT, t_range, TRUE = args\n",
    "    '''\n",
    "    x[0] = alpha\n",
    "    \n",
    "    x[1] = gamma\n",
    "    \n",
    "    x[2] = k1\n",
    "    '''\n",
    "    v = lambda x: SEIR_loss(TRUE,spi.odeint(SEIR, (INPUT[0], INPUT[1], INPUT[2], INPUT[3]), t_range, \n",
    "                                      args = (x[0], x[1], x[2])))\n",
    "    return v"
   ]
  },
  {
   "cell_type": "code",
   "execution_count": 97,
   "metadata": {},
   "outputs": [],
   "source": [
    "def predict_si2c(init_S,I0coe, confirm_data, iminfect_data, active_data, N, x0_init = None):\n",
    "    S0 = init_S\n",
    "    C0 = confirm_data[0]\n",
    "    I0 = np.sum(confirm_data[0:5])/5\n",
    "    imI0 = iminfect_data[0]\n",
    "    A0 = active_data[0]\n",
    "    INPUT = (S0, I0 * I0coe, C0, imI0, A0)\n",
    "    \n",
    "    TRUE = np.array([confirm_data,\n",
    "                    iminfect_data,\n",
    "                    active_data])\n",
    "    TRUE = TRUE.T\n",
    "    \n",
    "    t_range = np.arange(0, len(TRUE), 1)\n",
    "    x0 = x0_init \n",
    "    #print('x0',x0)\n",
    "    RES = minimize(optim_fun_si2c((INPUT, t_range, TRUE)), x0, method = 'Nelder-Mead', options = {'disp': True})\n",
    "\n",
    "    t_range = np.arange(0.0, N, 1.0)\n",
    "    x = RES.x\n",
    "    #print('x',x) \n",
    "    RES = spi.odeint(SI2C, (INPUT[0], INPUT[1], INPUT[2], INPUT[3], INPUT[4]), t_range, args = (x[0], x[1], x[2], x[3], x[4]))\n",
    "\n",
    "    return {'S': RES[:, 0], 'I': RES[:, 1], 'C': RES[:, 2], 'imI': RES[:,3], 'A': RES[:,4]}"
   ]
  },
  {
   "cell_type": "code",
   "execution_count": 100,
   "metadata": {},
   "outputs": [],
   "source": [
    "def predict_sic_im(init_S,I0coe, confirm_data, iminfect_data, N, x0_init = None):\n",
    "    S0 = init_S\n",
    "    C0 = confirm_data[0]\n",
    "    I0 = np.sum(confirm_data[0:5])/5\n",
    "    imI0 = iminfect_data[0]\n",
    "    INPUT = (S0, I0*I0coe, C0, imI0)\n",
    "    \n",
    "    TRUE = np.array([confirm_data,\n",
    "                    iminfect_data])\n",
    "    TRUE = TRUE.T\n",
    "    \n",
    "    t_range = np.arange(0, len(TRUE), 1)\n",
    "    x0 = x0_init \n",
    "    #print('x0',x0)\n",
    "    RES = minimize(optim_fun_sic_im((INPUT, t_range, TRUE)), x0, method = 'Nelder-Mead', options = {'disp': True})\n",
    "\n",
    "    t_range = np.arange(0.0, N, 1.0)\n",
    "    x = RES.x\n",
    "    #print('x',x) \n",
    "    RES = spi.odeint(SIC_im, (INPUT[0], INPUT[1], INPUT[2], INPUT[3]), t_range, args = (x[0], x[1], x[2], x[3]))\n",
    "\n",
    "    return {'S': RES[:, 0], 'I': RES[:, 1], 'C': RES[:, 2], 'imI': RES[:,3]}"
   ]
  },
  {
   "cell_type": "code",
   "execution_count": 101,
   "metadata": {},
   "outputs": [],
   "source": [
    "def predict_sic_act(init_S, I0coe, confirm_data, active_data, N, x0_init = None):\n",
    "    S0 = init_S\n",
    "    C0 = confirm_data[0]\n",
    "    A0 = active_data[0]\n",
    "    I0 = np.sum(confirm_data[0:5])/5\n",
    "    INPUT = (S0, I0*I0coe, C0, A0)\n",
    "    \n",
    "    TRUE = np.array([confirm_data,\n",
    "                    active_data])\n",
    "    TRUE = TRUE.T\n",
    "    \n",
    "    t_range = np.arange(0, len(TRUE), 1)\n",
    "    x0 = x0_init \n",
    "    #print('x0',x0)\n",
    "    RES = minimize(optim_fun_sic_act((INPUT, t_range, TRUE)), x0, method = 'Nelder-Mead', options = {'disp': True})\n",
    "\n",
    "    t_range = np.arange(0.0, N, 1.0)\n",
    "    x = RES.x\n",
    "    #print('x',x) \n",
    "    RES = spi.odeint(SIC_act, (INPUT[0], INPUT[1], INPUT[2], INPUT[3]), t_range, args = (x[0], x[1], x[2]))\n",
    "\n",
    "    return {'S': RES[:, 0], 'I': RES[:, 1], 'C': RES[:, 2], 'A': RES[:,3]}"
   ]
  },
  {
   "cell_type": "code",
   "execution_count": 102,
   "metadata": {},
   "outputs": [],
   "source": [
    "def predict_sic(init_S, I0coe, confirm_data,N, x0_init = None):\n",
    "    S0 = init_S\n",
    "    C0 = confirm_data[0]\n",
    "    I0 = confirm_data[0:5].sum()/5\n",
    "    INPUT = (S0, I0 * I0coe, C0)\n",
    "    \n",
    "    TRUE = np.array([confirm_data,])\n",
    "    TRUE = TRUE.T\n",
    "    \n",
    "    t_range = np.arange(0, len(TRUE), 1)\n",
    "    x0 = x0_init \n",
    "    #print('x0',x0)\n",
    "    RES = minimize(optim_fun_sic((INPUT, t_range, TRUE)), x0, method = 'Nelder-Mead', options = {'disp': True})\n",
    "\n",
    "    t_range = np.arange(0.0, N, 1.0)\n",
    "    x = RES.x\n",
    "    #print('x',x) \n",
    "    RES = spi.odeint(SIC,(INPUT[0], INPUT[1], INPUT[2]), t_range, args = (x[0], x[1]))\n",
    "\n",
    "    return {'S': RES[:, 0], 'I': RES[:, 1], 'C': RES[:, 2]}"
   ]
  },
  {
   "cell_type": "code",
   "execution_count": 103,
   "metadata": {},
   "outputs": [],
   "source": [
    "def MAPE(true, pred):\n",
    "    diff = np.abs(np.array(true) - np.array(pred))\n",
    "    return np.mean(diff / true)"
   ]
  },
  {
   "cell_type": "code",
   "execution_count": null,
   "metadata": {},
   "outputs": [],
   "source": [
    "def day_add(arr):#计算日新增\n",
    "    add_arr = np.zeros(len(arr)-1) #新增是从1.17-2.28\n",
    "    add_arr = arr[1:]-arr[:-1]\n",
    "    return add_arr"
   ]
  },
  {
   "cell_type": "markdown",
   "metadata": {},
   "source": [
    "# Grid-search method"
   ]
  },
  {
   "cell_type": "code",
   "execution_count": null,
   "metadata": {},
   "outputs": [],
   "source": [
    "#search the best parameters for si2c\n",
    "legend_font = {\"family\":\"Times New Roman\",\"size\":14}\n",
    "import cmath\n",
    "from sklearn.metrics import mean_squared_error\n",
    "from matplotlib.pyplot import MultipleLocator\n",
    "from sklearn.model_selection import ParameterGrid\n",
    "import warnings\n",
    "import csv\n",
    "warnings.filterwarnings(\"ignore\")\n",
    "\n",
    "foutput = open('metric/si2c_results_1.csv','w')\n",
    "foutput2 = open('metric/si2c_bestresults_1.csv','w')\n",
    "csv_writer = csv.writer(foutput)\n",
    "csv_writer_best = csv.writer(foutput2)\n",
    "\n",
    "predictors = {} \n",
    "for cityname in [\n",
    "'北京市',\n",
    "\"上海市\",\n",
    "\"广州市\",\n",
    "\"温州市\",\n",
    "\"深圳市\",\n",
    "\"武汉市\",\n",
    "\"黄冈市\",\n",
    "\"孝感市\",\n",
    "\"天门市\",\n",
    "\"南昌市\",\n",
    "\"长沙市\",\n",
    "\"恩施市\",\n",
    "\"信阳市\",\n",
    "\"仙桃市\",\n",
    "\"重庆市\",\n",
    "\"十堰市\",\n",
    "\"咸宁市\",\n",
    "\"荆门市\",\n",
    "\"宜昌市\",\n",
    "\"黄石市\",\n",
    "\"襄阳市\",\n",
    "\"随州市\",\n",
    "\"鄂州市\",\n",
    "\"荆州市\"\n",
    "]:\n",
    "    cityid = city_ID[cityname]\n",
    "    init_S = population[cityid, 2] * 10000\n",
    "    window = 44\n",
    "    for i in range(len(epidemic[cityid])):\n",
    "        if(epidemic[cityid,-(i+1)]==0):\n",
    "            window = i\n",
    "            break\n",
    "    print('================='+cityname+'===================')\n",
    "    print('window',window)\n",
    "    confirm_data = epidemic[cityid, -window:]\n",
    "    active_data = active[cityid, -window:]\n",
    "    iminfect_data = iminfect[cityid, -window:]\n",
    "    \n",
    "    RMSE_ALL = []\n",
    "    MAPE_ALL = []\n",
    "    param_grid = {'k1': np.arange(0.1, 1.7, 0.1),\n",
    "                  'k2': np.arange(2e-8, 3.2e-8, 0.2e-8), \n",
    "                  'I0': np.arange(0.1, 2, 0.05)}\n",
    "    NN=240\n",
    "\n",
    "    param_name = ['k1','k2', 'I0']\n",
    "    Grid = ParameterGrid(param_grid)\n",
    "    epoch = 0 \n",
    "    for grid in Grid:\n",
    "        args = [grid[name] for name in param_name]\n",
    "        args_new = args[0:2]\n",
    "        args_new.extend([20,0,0])\n",
    "        print(epoch, args_new, args[-1])\n",
    "        data_all = predict_si2c(init_S, args[-1], confirm_data, iminfect_data, active_data, NN, x0_init=args_new)\n",
    "        confirm_all = data_all['C']\n",
    "        infect_all = data_all['I']\n",
    "        rmset = np.sqrt(mean_squared_error(confirm_data,confirm_all[:len(confirm_data)]))\n",
    "        mapent = MAPE(confirm_data,confirm_all[:len(confirm_data)])\n",
    "        RMSE_ALL.append(rmset)\n",
    "        MAPE_ALL.append(mapent)\n",
    "        \n",
    "        writelist = [statename]\n",
    "        writelist.append(epoch)\n",
    "        for arg in args_new:\n",
    "            writelist.append(arg)\n",
    "        writelist.append(args[-1])\n",
    "        writelist.append(rmset)\n",
    "        writelist.append(mapent)\n",
    "        csv_writer.writerow(writelist)\n",
    "           \n",
    "        epoch = epoch + 1\n",
    "    \n",
    "    minrmse = RMSE_ALL[0]\n",
    "    minind = 0\n",
    "    for i, rmse in enumerate(RMSE_ALL):\n",
    "        if rmse < minrmse:\n",
    "            minrmse = rmse\n",
    "            minind = i\n",
    "    print(RMSE_ALL)\n",
    "    print(MAPE_ALL)\n",
    "    print(minrmse, MAPE_ALL[minind], minind)\n",
    "    csv_writer_best.writerow([statename, minrmse, MAPE_ALL[minind], minind])\n",
    "    \n",
    "\n",
    "foutput.close()\n",
    "foutput2.close()"
   ]
  },
  {
   "cell_type": "code",
   "execution_count": null,
   "metadata": {},
   "outputs": [],
   "source": []
  },
  {
   "cell_type": "code",
   "execution_count": null,
   "metadata": {},
   "outputs": [],
   "source": []
  }
 ],
 "metadata": {
  "kernelspec": {
   "display_name": "Python 3",
   "language": "python",
   "name": "python3"
  },
  "language_info": {
   "codemirror_mode": {
    "name": "ipython",
    "version": 3
   },
   "file_extension": ".py",
   "mimetype": "text/x-python",
   "name": "python",
   "nbconvert_exporter": "python",
   "pygments_lexer": "ipython3",
   "version": "3.7.3"
  }
 },
 "nbformat": 4,
 "nbformat_minor": 2
}
